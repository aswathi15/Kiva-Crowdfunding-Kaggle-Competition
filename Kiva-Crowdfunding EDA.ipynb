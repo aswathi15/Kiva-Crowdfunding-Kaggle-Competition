{
  "cells": [
    {
      "metadata": {
        "_uuid": "6b989596053026ae41aa1c7f844e25aaddb8b137",
        "_cell_guid": "13856f8b-df19-4745-a117-13b34b5e3a19"
      },
      "cell_type": "markdown",
      "source": "**Background : Kiva is an online crowdfunding platform which provides financial services and loans to financially excluded people around the world. Kiva has provided over 1 billion dollars in loans to over 2 million people. **\n\n**Objective : Prioritise investments, help inform lenders, understand their target communities and knowing the level of poverty of each borrower. Helping Kiva build models for assessing borrowing welfare levels. **"
    },
    {
      "metadata": {
        "_uuid": "8f2839f25d086af736a60e9eeb907d3b93b6e0e5",
        "_cell_guid": "b1076dfc-b9ad-4769-8c92-a6c4dae69d19",
        "trusted": false,
        "collapsed": true
      },
      "cell_type": "code",
      "source": "# This Python 3 environment comes with many helpful analytics libraries installed\n# It is defined by the kaggle/python docker image: https://github.com/kaggle/docker-python\n# For example, here's several helpful packages to load in \n\nimport numpy as np # linear algebra\nimport pandas as pd # data processing, CSV file I/O (e.g. pd.read_csv)\nimport matplotlib\nimport matplotlib.pyplot as plt\nimport seaborn as sns\nimport datetime\nimport geopandas as gpd\nimport squarify\n%matplotlib inline\nsns.set(style=\"darkgrid\")\n\n# Input data files are available in the \"../input/\" directory.\n# For example, running this (by clicking run or pressing Shift+Enter) will list the files in the input directory\n\nimport os\nprint(os.listdir(\"../input\"))\n\n# Any results you write to the current directory are saved as output.",
      "execution_count": null,
      "outputs": []
    },
    {
      "metadata": {
        "_uuid": "d629ff2d2480ee46fbb7e2d37f6b5fab8052498a",
        "collapsed": true,
        "_cell_guid": "79c7e3d0-c299-4dcb-8224-4455121ee9b0",
        "trusted": false
      },
      "cell_type": "code",
      "source": "#import dataset\nloans = pd.read_csv(\"../input/kiva_loans.csv\")\nmpi = pd.read_csv(\"../input/kiva_mpi_region_locations.csv\")\nloan_theme = pd.read_csv(\"../input/loan_theme_ids.csv\")\nloan_region = pd.read_csv(\"../input/loan_themes_by_region.csv\")",
      "execution_count": null,
      "outputs": []
    },
    {
      "metadata": {
        "_uuid": "4a395d70a1d7be71639225e70bec9e829b12a4f5",
        "_cell_guid": "b48831c8-ce47-4fdb-a0f1-ac6b4a4f6917",
        "trusted": false,
        "collapsed": true
      },
      "cell_type": "code",
      "source": "loans.head()",
      "execution_count": null,
      "outputs": []
    },
    {
      "metadata": {
        "_uuid": "5e007cbd80b596542662f8ef77023d7ebee71f33",
        "_cell_guid": "2e1e1b26-0f0a-4c45-8c89-6e80d4efc84f",
        "trusted": false,
        "collapsed": true
      },
      "cell_type": "code",
      "source": "loans.info()",
      "execution_count": null,
      "outputs": []
    },
    {
      "metadata": {
        "_uuid": "e922f602da3955e949e75a2b7253e43c0e9354ac",
        "collapsed": true,
        "_cell_guid": "45e09874-6e07-45e0-b1d3-90f0cb0ee216",
        "trusted": false
      },
      "cell_type": "code",
      "source": "loans['Posted_Date'],loans[\"Posted_Time\"] = zip(*loans[\"posted_time\"].map(lambda x: x.split(' ')))\n",
      "execution_count": null,
      "outputs": []
    },
    {
      "metadata": {
        "_uuid": "bd62da52c2397f4af50a1ca3f2d08c93689fe6a0",
        "collapsed": true,
        "_cell_guid": "e226eef5-b9c9-428d-a416-86db006b99ec",
        "trusted": false
      },
      "cell_type": "code",
      "source": "loans= loans.drop('posted_time',axis=1)",
      "execution_count": null,
      "outputs": []
    },
    {
      "metadata": {
        "_uuid": "f07f0b756df755d1bc3dece50cd6e439b0f95265",
        "collapsed": true,
        "_cell_guid": "a5ea02eb-32d2-4860-8863-c8a32474d53d",
        "trusted": false
      },
      "cell_type": "code",
      "source": "loans = loans[['id','funded_amount','loan_amount','activity','sector','use','country_code',\n                    'country','region','currency','partner_id','Posted_Date','Posted_Time','disbursed_time',\n                    'funded_time','term_in_months','lender_count','borrower_genders','repayment_interval']]",
      "execution_count": null,
      "outputs": []
    },
    {
      "metadata": {
        "_uuid": "83e850d9bde0fc7944453df03de80c3949e87630",
        "_cell_guid": "838c28e7-f7f3-43ce-9789-ac52e250d528",
        "trusted": false,
        "collapsed": true
      },
      "cell_type": "code",
      "source": "loans.describe()",
      "execution_count": null,
      "outputs": []
    },
    {
      "metadata": {
        "_uuid": "5b0e4377338e05f4c8a728ccc522a0b633a38ef5",
        "collapsed": true,
        "_cell_guid": "1530c17e-7c30-4731-bf52-b344b926db44",
        "trusted": false
      },
      "cell_type": "code",
      "source": "#convert id and partner id to object type\nloans['id'] = loans['id'].astype('object')\nloans['partner_id'] = loans['partner_id'].astype('object')",
      "execution_count": null,
      "outputs": []
    },
    {
      "metadata": {
        "_uuid": "cc1581b9f27ef10386c84cea6844627bfe60d951",
        "collapsed": true,
        "_cell_guid": "280fd70f-074b-459b-98fb-860b1a1b0e73",
        "trusted": false
      },
      "cell_type": "code",
      "source": "loans.rename(index=str,columns = {'id' :'loan_id','borrower_genders':'genders'},inplace=True)",
      "execution_count": null,
      "outputs": []
    },
    {
      "metadata": {
        "_uuid": "e46ca8f3123a0c74a84c58faead92c88a80cd7fa",
        "_cell_guid": "4ecedcd1-b1ce-468b-bc83-fde43f2dbb6b",
        "trusted": false,
        "collapsed": true
      },
      "cell_type": "code",
      "source": "f, ax = plt.subplots(ncols = 1)\nax = sns.kdeplot(loans['loan_amount'], shade = 'True', color = \"red\")\nax = sns.kdeplot(loans['funded_amount'],shade = 'True', color = \"blue\")\nax.set_xlim(0,100000)\nax.set_title(\"Distribution of Loan Amount and Funded Amount\",fontsize = 20)\nf.set_size_inches(15,10)",
      "execution_count": null,
      "outputs": []
    },
    {
      "metadata": {
        "_uuid": "62b6392b592f8c873ec30b99b161879a33f8f866",
        "collapsed": true,
        "_cell_guid": "3c5a1b16-46c9-445b-82fa-0260d8568cea"
      },
      "cell_type": "markdown",
      "source": "**From the above density plot, we can figure out, that mostly the loans are taken between 200 - 15000 approximately. There are very few people who have taken loans in the range of 20000 - 90000. There are a number of people who have taken loans between 95k and above till 1lakh. What can be the reason for it ? For what activities are the loans taken ? We will find out in the later analysis. Also there are times, when the funded amount is less than the loan amount. **"
    },
    {
      "metadata": {
        "_uuid": "3110b2f6d04d9287451b90f056358f0296e91068",
        "_cell_guid": "b808dbb6-478d-4425-a381-72b6fb7a801d"
      },
      "cell_type": "markdown",
      "source": "**Let's check out the activities for what the people are borrowing the money for. **"
    },
    {
      "metadata": {
        "_uuid": "b9fb933d530aa66440ba581750c0736bf73b5e42",
        "_cell_guid": "1efbab25-c20b-4e26-98c3-b1f2564ba811",
        "trusted": false,
        "collapsed": true
      },
      "cell_type": "code",
      "source": "loans['activity'].unique()",
      "execution_count": null,
      "outputs": []
    },
    {
      "metadata": {
        "_uuid": "8e050d5b5cba06487174fc04ab10da0c5db7dde3",
        "collapsed": true,
        "_cell_guid": "80242304-aa7a-4a31-aa52-aad81ce56eec",
        "trusted": false
      },
      "cell_type": "code",
      "source": "activity = pd.DataFrame(loans.groupby(['activity'])['loan_amount'].sum()).reset_index()",
      "execution_count": null,
      "outputs": []
    },
    {
      "metadata": {
        "_uuid": "cd305232a69060d027578d1cc2775127ba268cd5",
        "collapsed": true,
        "_cell_guid": "910422f5-8b81-4cee-82c5-4ac5218c001e",
        "trusted": false
      },
      "cell_type": "code",
      "source": "activity.sort_values(by = 'loan_amount',ascending = False,inplace = True)",
      "execution_count": null,
      "outputs": []
    },
    {
      "metadata": {
        "_uuid": "c0b4402ea36b673ab2c2fae2f695e38bfc0f4ad7",
        "_cell_guid": "b4c0ecd7-bb0f-44a3-b075-40d4c413762f",
        "trusted": false,
        "collapsed": true
      },
      "cell_type": "code",
      "source": "top_10_activity = activity.head(10)\ntop_10_activity",
      "execution_count": null,
      "outputs": []
    },
    {
      "metadata": {
        "_uuid": "28a1d1118e7cf55058ba2079465bba759384ad5c",
        "collapsed": true,
        "_cell_guid": "5076a19f-b247-458d-b3f8-a833d81ffdb1",
        "trusted": false
      },
      "cell_type": "code",
      "source": "bottom_10_activity = activity.tail(10)",
      "execution_count": null,
      "outputs": []
    },
    {
      "metadata": {
        "_uuid": "1787829a0d0eaa5f943175ba5e02aaf3c9e84df7",
        "_cell_guid": "0b83de42-9fb6-4805-88bd-08fc92b23779",
        "trusted": false,
        "collapsed": true
      },
      "cell_type": "code",
      "source": "# Two subplots\nf, (ax1, ax2) = plt.subplots(ncols=2, sharey=False)\nsns.barplot(y = 'activity',x = 'loan_amount', data = top_10_activity,ax=ax1)\nax1.set(xlabel = \"Loan Amount in Crores\")\nax1.set_title(\"Top 10 activities\",fontsize = 20)\nsns.barplot(y = 'activity',x = 'loan_amount', data = bottom_10_activity,ax=ax2)\nax2.set(xlabel = \"Loan Amount in Thousands\")\nax2.set_title(\"Bottom 10 activities\",fontsize = 20)\nf.set_size_inches(15, 11)",
      "execution_count": null,
      "outputs": []
    },
    {
      "metadata": {
        "_uuid": "c3bd449c5acac9ded7b5bd915b568a84781f02ab",
        "_cell_guid": "dae29fc0-c297-459d-810e-2ef51859c26b"
      },
      "cell_type": "markdown",
      "source": "**From the above graph, we can infer that the loan is taken mostly for Farming, agriculture, livestock activities i.e the loan is taking to sustain a livelihood. Very small amounts of loan is taken for some kind of celebration or personal care. **"
    },
    {
      "metadata": {
        "_uuid": "8828a327b90ab90a0f40e6f18ad03237a5dc27be",
        "_cell_guid": "74ed49de-4d07-4352-9216-b59f9bcdd1c5"
      },
      "cell_type": "markdown",
      "source": "**I am curious to know on an indivdual level, the distribution of loans taken for farming, lets see**"
    },
    {
      "metadata": {
        "_uuid": "6dae37992ff83b5ccc195c583732e5a75000636e",
        "_cell_guid": "a80f11d0-3d25-40d8-8dce-ded2c06c4bf4",
        "trusted": false,
        "collapsed": true
      },
      "cell_type": "code",
      "source": "filter = loans[loans['activity'] == 'Farming']\nfarming = filter[['loan_amount','activity']]\nfarming.sort_values(by='loan_amount',ascending=False,inplace=True)",
      "execution_count": null,
      "outputs": []
    },
    {
      "metadata": {
        "_uuid": "ca1adbeea8ff9465945e6714b502c7f2af92f4ac",
        "_cell_guid": "342247fa-d39b-4133-9492-ad84ec4ad3b0",
        "trusted": false,
        "collapsed": true
      },
      "cell_type": "code",
      "source": "f,ax = plt.subplots(ncols=1)\nax = sns.kdeplot(farming['loan_amount'],shade=True)\nax.set_title ('Loan amount taken for Farming',fontsize = 20)\nf.set_size_inches(15,10)",
      "execution_count": null,
      "outputs": []
    },
    {
      "metadata": {
        "_uuid": "fa085a63fc01361074c0d25dc3f5bbe76287b704",
        "_cell_guid": "a3710188-679b-4d2b-a717-8370092e4513"
      },
      "cell_type": "markdown",
      "source": "**Though Farming has the highest amount of loans taking cumulatively, we can see that the amount of individual loans taken for farming are very \nsmall amounts. Most of the loans are taken between 25 - 5000. There are a just 2 loans taken above 25k and less than 50k.**"
    },
    {
      "metadata": {
        "_uuid": "d7138d25d32c03f3cec19e5757ee1840d499f976",
        "_cell_guid": "17948cd2-d413-419d-a74c-e38b6bca223c",
        "trusted": false,
        "collapsed": true
      },
      "cell_type": "code",
      "source": "loans['sector'].unique()",
      "execution_count": null,
      "outputs": []
    },
    {
      "metadata": {
        "_uuid": "6c57c379ab9e1daf3d9adafeb6f763206b2f3710",
        "collapsed": true,
        "_cell_guid": "14c304a3-a158-42ab-b6b6-03196ed71781",
        "trusted": false
      },
      "cell_type": "code",
      "source": "sector = loans.groupby(['sector'])['loan_amount'].sum().reset_index()",
      "execution_count": null,
      "outputs": []
    },
    {
      "metadata": {
        "_uuid": "13a335fb3cbff54a6ec261847deafee9fb907370",
        "collapsed": true,
        "_cell_guid": "f3f7d747-8a22-47f2-b176-3de85d35d2d7",
        "trusted": false
      },
      "cell_type": "code",
      "source": "sector.sort_values(by = 'loan_amount',ascending = False, inplace = True)",
      "execution_count": null,
      "outputs": []
    },
    {
      "metadata": {
        "_uuid": "2a537171e9fb5cd26583c0c51449084b583a804b",
        "_cell_guid": "f63a7e67-6c27-4369-9489-003a29aab04d",
        "trusted": false,
        "collapsed": true
      },
      "cell_type": "code",
      "source": "sector",
      "execution_count": null,
      "outputs": []
    },
    {
      "metadata": {
        "_uuid": "a1b74cfa47ea64bcadefa94ff06f388fd0eb3bda",
        "_cell_guid": "d57dbfd9-dab3-47e1-abb2-29a682d05d82",
        "trusted": false,
        "collapsed": true
      },
      "cell_type": "code",
      "source": "f,ax = plt.subplots(ncols = 1)\nsns.barplot(y = 'sector',x = 'loan_amount', data= sector)\nax.set_title ('Loan Amount taken sector-wise',fontsize = 20)\nf.set_size_inches(15,10)",
      "execution_count": null,
      "outputs": []
    },
    {
      "metadata": {
        "_uuid": "348729939a15857552623b2dc2e998b0bf91a510",
        "_cell_guid": "52280f2e-29e3-4923-8264-e6fa74162e5e"
      },
      "cell_type": "markdown",
      "source": "**Let us check the loan distribution across the top 3 sectors ie. Agriculture, Retail and Food**"
    },
    {
      "metadata": {
        "_uuid": "d01354e04ef1347071fb2af12b9cc47c2493b579",
        "_cell_guid": "c22e01a0-693a-42ba-b1c2-8802f7f2a36b",
        "trusted": false,
        "collapsed": true
      },
      "cell_type": "code",
      "source": "value = ['Agriculture','Food','Retail']\nsector_1 = loans[loans['sector'].isin(value)]\nsector_1.head()",
      "execution_count": null,
      "outputs": []
    },
    {
      "metadata": {
        "_uuid": "69da3e351b3d8d705566870d44b3e256b428967c",
        "_cell_guid": "0bc95098-e301-44a6-8363-ea47202405a0",
        "trusted": false,
        "collapsed": true
      },
      "cell_type": "code",
      "source": "f,ax = plt.subplots(ncols=1)\nax = sns.boxplot(x = 'sector', y = 'loan_amount',data=loans)\nf.set_size_inches(30, 30)\n# There is an outlier, who has taken a loan of 100000, I am ignoring that outlier and reducing the limit\nax.set_ylim(0,50000)\nax.set_title('Sector-wise loan amount distribution',fontsize = 20)",
      "execution_count": null,
      "outputs": []
    },
    {
      "metadata": {
        "_uuid": "7d36edc71c99c540c75bc7bd8ae8246761bbc27d",
        "_cell_guid": "0697a89b-0ce2-4297-b2fd-3d2fdc8cacb1",
        "trusted": false,
        "collapsed": true
      },
      "cell_type": "code",
      "source": "f,ax = plt.subplots(ncols=1)\nax = plt.scatter(x='loan_amount',y='term_in_months',data=loans,marker = 'o',alpha = 0.1,color = 'red')\nf.set_size_inches(15, 10)\n",
      "execution_count": null,
      "outputs": []
    },
    {
      "metadata": {
        "_uuid": "e06dc0693e899137ba9b4f75fd16e5ab3b437a0c",
        "_cell_guid": "2ca01703-bff0-475c-a641-895d1d09d080"
      },
      "cell_type": "markdown",
      "source": "**I thought that the loan_amount and the repayment interval will be linearly related, but that is clearly not the case, there is no linear relationship between them which can be inferred from the above scatter plot**"
    },
    {
      "metadata": {
        "_uuid": "90375f2acf92a66c6edadaa8bd7c678cfe471bde",
        "_cell_guid": "3d2884f3-5736-4f4e-8b6a-c801a3fc7e94",
        "trusted": false,
        "collapsed": true
      },
      "cell_type": "code",
      "source": "f,ax = plt.subplots(ncols = 1)\nax = sns.countplot(x ='repayment_interval',data = loans)\nax.set_title('Count of Repayment Interval',fontsize = 20)\nf.set_size_inches(15,10)",
      "execution_count": null,
      "outputs": []
    },
    {
      "metadata": {
        "_uuid": "a476e7be01f64047e5393459b6de6baca801ad7e",
        "collapsed": true,
        "_cell_guid": "5ccf69ec-2f20-462e-a5fc-2e9a30960e69",
        "trusted": false
      },
      "cell_type": "code",
      "source": "bullet = loans[loans['repayment_interval'] == 'bullet']\nirregular = loans[loans['repayment_interval'] == 'irregular']",
      "execution_count": null,
      "outputs": []
    },
    {
      "metadata": {
        "_uuid": "a48a8061043b6a5b7af0aca57f7280d131df32ac",
        "_cell_guid": "756a9939-aaf2-4aae-9559-ce9fc252a285",
        "trusted": false,
        "collapsed": true
      },
      "cell_type": "code",
      "source": "irregular_country = pd.DataFrame(irregular['country'].unique())\nirregular_country.columns = [\"Country\"]\nirregular_country.head(20)",
      "execution_count": null,
      "outputs": []
    },
    {
      "metadata": {
        "_uuid": "1c2af8208d0755238f11cfd42892ea64c6f000de",
        "_cell_guid": "eb62c2c9-76dc-42f7-84c1-3fcb13bf6c27"
      },
      "cell_type": "markdown",
      "source": "**We can see that mostly the underdeveloped or developing countries have irregular loan repayment interval. **"
    },
    {
      "metadata": {
        "_uuid": "0fb7228fa28195c07ff74669f73ddfc91d93aaff",
        "_cell_guid": "c16333b1-7a4f-4334-8208-07813abf7707"
      },
      "cell_type": "markdown",
      "source": "**Let us check out the total loan amount taken country wise**"
    },
    {
      "metadata": {
        "_uuid": "bae45a317e57fb504c8f42604290cfaf803e12d8",
        "collapsed": true,
        "_cell_guid": "f602bffc-e5ec-4df8-9b00-0792b40f99fd",
        "trusted": false
      },
      "cell_type": "code",
      "source": "country_loan = loans.groupby(['country'])['loan_amount'].sum().reset_index()\ncountry_loan.sort_values(by = 'loan_amount',ascending = False, inplace = True)",
      "execution_count": null,
      "outputs": []
    },
    {
      "metadata": {
        "_uuid": "c1994484b846f27b1b3371f5d22a72e2ebc2bbdd",
        "_cell_guid": "e5b3dcd9-f6bc-4d26-8d7e-13ba431091d8",
        "trusted": false,
        "collapsed": true
      },
      "cell_type": "code",
      "source": "country_loan.head(10)",
      "execution_count": null,
      "outputs": []
    },
    {
      "metadata": {
        "_uuid": "70d7d5d9aa9fe79c1776758ba9a0327447b5ace8",
        "_cell_guid": "ac8ed7b3-0fb0-41f9-9bb5-4fe3f25a9f51"
      },
      "cell_type": "markdown",
      "source": "**From the irregular_country dataframe and the country_loan dataframe, we can see that the countries which have taken maximum amounts of loans are also the underdeveloped or developing countries which have irregular repayment intervals. Therefore, kiva must concentrate on these countries. **"
    },
    {
      "metadata": {
        "_uuid": "7b5b33321387aac71dc460dcb7ac102b03894a43",
        "_cell_guid": "c68bd573-6fca-44d9-894a-9bdca8960953",
        "trusted": false,
        "collapsed": true
      },
      "cell_type": "code",
      "source": "f,ax = plt.subplots(ncols = 1)\nsns.barplot(x = 'loan_amount',y = 'country', data = country_loan.head(10))\nf.set_size_inches(15,10)\nax.set_title('Loan amount given Country-Wise',fontsize = 20)",
      "execution_count": null,
      "outputs": []
    },
    {
      "metadata": {
        "_uuid": "c6274848c2816e4997b15e1ac0ffcddf7eb6d41e",
        "_cell_guid": "ed678c56-3f0b-49aa-aeef-f62b7adcca51",
        "trusted": false,
        "collapsed": true
      },
      "cell_type": "code",
      "source": "loan_theme.head()",
      "execution_count": null,
      "outputs": []
    },
    {
      "metadata": {
        "_uuid": "d1f4970054eb211d8bb3a4c73f33b8b65088704d",
        "collapsed": true,
        "_cell_guid": "6a4d3f83-b521-4cc7-8f61-34909cbc6886",
        "trusted": false
      },
      "cell_type": "code",
      "source": "loan_type = loan_theme.groupby(['Loan Theme Type'])['id'].count().reset_index()\nloan_type.sort_values(by = 'id',ascending = False,inplace = True)\nloan_type.rename(index = str, columns = {'id' : 'Count'},inplace = True)\nloan_type_top10 = loan_type.head(10)\nloan_type_bottom10 = loan_type.tail(10)",
      "execution_count": null,
      "outputs": []
    },
    {
      "metadata": {
        "_uuid": "6fe7b79e007fec47e9cda36735f85d03ba87caaf",
        "_cell_guid": "61509bc2-3bcf-4973-b587-5cb550a7be42",
        "trusted": false,
        "collapsed": true
      },
      "cell_type": "code",
      "source": "f, (ax1, ax2) = plt.subplots(ncols=2, sharey=False)\nax1 = sns.barplot(y = 'Loan Theme Type', x = 'Count', data = loan_type_top10,ax = ax1)\nax1.set_title (\"Top 10 Loan Theme Type\",fontsize=20)\nax2 = sns.barplot(y = 'Loan Theme Type', x = 'Count', data = loan_type_bottom10,ax = ax2)\nax2 .set_title (\"Bottom 10 Loan Theme Type\",fontsize=20)\nf.set_size_inches(20,15)",
      "execution_count": null,
      "outputs": []
    },
    {
      "metadata": {
        "_uuid": "63348ca697aae7ea5ea1e6e2c1f73ad697895eb3",
        "_cell_guid": "9983043d-0545-4a3d-abb3-e39ef66a5b13",
        "trusted": false,
        "collapsed": true
      },
      "cell_type": "code",
      "source": "loans.head(2)",
      "execution_count": null,
      "outputs": []
    },
    {
      "metadata": {
        "_uuid": "e3b1c22fde885df0c67f530db5922da5b0825440",
        "_cell_guid": "2622e269-2d7c-4ebd-9c4e-43078857f687",
        "trusted": false,
        "collapsed": true
      },
      "cell_type": "code",
      "source": "loans_use = loans['use'].astype(str)\ntype(loans_use)",
      "execution_count": null,
      "outputs": []
    },
    {
      "metadata": {
        "_uuid": "a8d33c7b47d114f6a1eef4d11a945b7a2db96025",
        "_cell_guid": "eb253063-1218-4a5f-9413-8c983233598c",
        "trusted": false,
        "collapsed": true
      },
      "cell_type": "code",
      "source": "loans_use.dropna(axis = 0, how ='any')",
      "execution_count": null,
      "outputs": []
    },
    {
      "metadata": {
        "_uuid": "054823ba0d7dd134c06b714a1702608563c13bac",
        "collapsed": true,
        "_cell_guid": "236aeb2d-349d-4f0a-b2cf-0956ab0ad8d4",
        "trusted": false
      },
      "cell_type": "code",
      "source": "from wordcloud import WordCloud,STOPWORDS\nimport nltk",
      "execution_count": null,
      "outputs": []
    },
    {
      "metadata": {
        "_uuid": "fbe3928ef3898ffab2a88cac809090d555e95d83",
        "_cell_guid": "fc0e18c2-d15c-47a1-a1c1-197740afedd7",
        "trusted": false,
        "collapsed": true
      },
      "cell_type": "code",
      "source": "words = []\nfor i in range(0,len(loans_use)):\n    words.append(nltk.word_tokenize(loans_use[i]))\n\nwords = [i for i in words for i in i]\nwords",
      "execution_count": null,
      "outputs": []
    },
    {
      "metadata": {
        "_uuid": "d06fdc2114db3bb28250a3b5687ba9ed5611aa83",
        "_cell_guid": "86c28fda-d2b0-46df-916b-1d93c27a6aa6",
        "trusted": false,
        "collapsed": true
      },
      "cell_type": "code",
      "source": "stopwords = nltk.corpus.stopwords.words('english')\nstopwords.append('buy')\nstopwords.append('purchase')\nstopwords.append('sell')\nwordcloud = WordCloud(max_font_size = 30,width = 600, height = 300,stopwords = stopwords).generate(\" \".join(words))\nplt.figure(figsize =(15,8))\nplt.imshow(wordcloud)\nplt.title('Wordcloud for loan uses',fontsize = 20)\nplt.axis('off')\nplt.show()",
      "execution_count": null,
      "outputs": []
    },
    {
      "metadata": {
        "_uuid": "779cdeefefefb6adb41161389bab76d740bb1b91",
        "_cell_guid": "2fd9366d-3354-4427-8fed-a1b7742d4d8d"
      },
      "cell_type": "markdown",
      "source": "**From the wordcloud we can see that the loan amount have been mostly used to probably purchase drinking water supplies, fertilizers,pay tuition, for family, cooking oil, sewing machine, canned goods, raise pigs, dairy cow.**"
    },
    {
      "metadata": {
        "_uuid": "b763cc1c3adc76a4a9d7730854f73fbff134dd21",
        "_cell_guid": "70359686-0cfb-48f0-a5f3-d2e3ae359a65"
      },
      "cell_type": "markdown",
      "source": "**MPI is multidimensional Poverty Index which is a measure of acute poverty which captures severe deprivations each person faces at the same time with respect to education, health and living standards. The MPI accesses poverty at an individual level. **"
    },
    {
      "metadata": {
        "_uuid": "7bff626f707886ec6f772818527b6a017e5b280e",
        "_cell_guid": "ab3a934a-728c-411b-beee-3f73f1d24d91",
        "trusted": false,
        "collapsed": true
      },
      "cell_type": "code",
      "source": "mpi.head()",
      "execution_count": null,
      "outputs": []
    },
    {
      "metadata": {
        "_uuid": "46d1fde65e620f1cffd0b70b34c569bf97a7d9de",
        "_cell_guid": "3ece197d-f46a-4227-9845-7093ea750a84"
      },
      "cell_type": "markdown",
      "source": "**In the MPI dataset, we need to delete the LocationName and geo column as they are redundant**"
    },
    {
      "metadata": {
        "_uuid": "aecb205529c94789899ed6aa638c034f117235c3",
        "collapsed": true,
        "_cell_guid": "67a71547-e4e7-418b-a3c1-d53b902ff7fe",
        "trusted": false
      },
      "cell_type": "code",
      "source": "mpi.drop(['LocationName','geo'],axis = 1, inplace = True)",
      "execution_count": null,
      "outputs": []
    },
    {
      "metadata": {
        "_uuid": "58b9c7a1cc7b568e875bc9108ebe9c724ca3a263",
        "_cell_guid": "e88c1270-da32-4e6a-bf1c-16815c47ed24",
        "trusted": false,
        "collapsed": true
      },
      "cell_type": "code",
      "source": "mpi['world_region'].unique()",
      "execution_count": null,
      "outputs": []
    },
    {
      "metadata": {
        "_uuid": "6f8b651cdc68e59bef5e7375c5c597afb70c06f5",
        "_cell_guid": "2df705d7-b5f2-432e-ba37-a4e56646e6c4",
        "trusted": false,
        "collapsed": true
      },
      "cell_type": "code",
      "source": "mpi.info()",
      "execution_count": null,
      "outputs": []
    },
    {
      "metadata": {
        "_uuid": "3d2ad1fed3f8e89567aa65f6c989c9b7026bed93",
        "_cell_guid": "bf246831-2aa6-4181-ae23-d5bc93a197c8"
      },
      "cell_type": "markdown",
      "source": "**Let us see the number of loans distributed through the world regions**"
    },
    {
      "metadata": {
        "_uuid": "db7ae77ca65140ac9b78302ffe9feeccefcefe69",
        "_cell_guid": "66bd7ab8-3e62-4d4b-8796-70fccbb1edfc",
        "trusted": false,
        "collapsed": true
      },
      "cell_type": "code",
      "source": "count_loan_region = pd.DataFrame(mpi['world_region'].value_counts()).reset_index()\ncount_loan_region.columns = ['world_region','count_of_loans']\ncount_loan_region",
      "execution_count": null,
      "outputs": []
    },
    {
      "metadata": {
        "_uuid": "15dd4dd19d6e5d36837858fe0ebf823e97e1e342",
        "_cell_guid": "87a480d7-6482-483d-a8ba-4b45a65b4dc9",
        "trusted": false,
        "collapsed": true
      },
      "cell_type": "code",
      "source": "f,ax = plt.subplots(ncols = 1)\n# Create a circle for the center of the plot\nmy_circle=plt.Circle( (0,0), 0.7, color='white')\nax = plt.pie(count_loan_region['count_of_loans'], labels = count_loan_region['world_region'],wedgeprops = { 'linewidth' : 7, 'edgecolor' : 'white' })\np=plt.gcf()\np.gca().add_artist(my_circle)\nf.set_size_inches(10,10)\nplt.show()\n",
      "execution_count": null,
      "outputs": []
    },
    {
      "metadata": {
        "_uuid": "05a60f49de8006d74a910ddd760ac5caaa45edd2",
        "_cell_guid": "8942b510-8209-41ad-8b7c-5db119eddc49"
      },
      "cell_type": "markdown",
      "source": "**Let us see the distribution of MPI index using kdeplot**"
    },
    {
      "metadata": {
        "_uuid": "db6681e79548ea67b8150f940475020b1d413cc9",
        "_cell_guid": "ceb5f7e9-80a6-4f29-b870-92c8bd62e231",
        "trusted": false,
        "collapsed": true
      },
      "cell_type": "code",
      "source": "f,ax = plt.subplots(ncols = 1)\nsns.kdeplot(mpi['MPI'], kernel ='gau',shade = True,bw ='scott',color ='green')\nf.set_size_inches(15,10)\nax.set_title('Multidimensional Poverty Index Distribution',fontsize = 20)",
      "execution_count": null,
      "outputs": []
    },
    {
      "metadata": {
        "_uuid": "9d37bf9616bd76e31dd6365ca6c6a5943c7a7c4a",
        "_cell_guid": "999668f9-f576-4889-a61f-dc529a375735"
      },
      "cell_type": "markdown",
      "source": "**Let us plot MPI distribution for all the Regions using KDE plot**"
    },
    {
      "metadata": {
        "_uuid": "6cb26ea9e567e8d34495226344808bbb57d8b94d",
        "_cell_guid": "01a33079-f111-4004-ad32-184d7253d44f",
        "trusted": false,
        "collapsed": true
      },
      "cell_type": "code",
      "source": "g = sns.FacetGrid(data = mpi, col = 'world_region',hue = 'world_region',dropna = True)\ng.map(sns.kdeplot, \"MPI\",shade = True)",
      "execution_count": null,
      "outputs": []
    },
    {
      "metadata": {
        "_uuid": "b1ad19729f9b8b6ba059955d0851226d648cc3dc",
        "_cell_guid": "b7c8c52f-1922-4aca-b1ca-265f3d50d157"
      },
      "cell_type": "markdown",
      "source": "**We can see that the Europe and Central Asia regions as expected have most of their MPI within 0 - 0.2 which is a good sign. Where as South Asia and Sub-Saharan African Regions has a fairly normal distribution. Latin American, East Asia and Pacific and Arab states have rightly skewed distribution. **"
    },
    {
      "metadata": {
        "_uuid": "1c353baa61c7644b45e66acd11c81288070594e1",
        "_cell_guid": "37e8c00c-d882-41b0-b21f-a5938b66272f",
        "trusted": false,
        "collapsed": true
      },
      "cell_type": "code",
      "source": "loan_region.head()",
      "execution_count": null,
      "outputs": []
    },
    {
      "metadata": {
        "_uuid": "6e1db9d5aa7284d9c18485b323b36326e24dd4fc",
        "_cell_guid": "98040dd4-8e2e-42e1-a59c-7b628275b901",
        "trusted": false,
        "collapsed": true
      },
      "cell_type": "code",
      "source": "loan_region['Field Partner Name'].unique()",
      "execution_count": null,
      "outputs": []
    },
    {
      "metadata": {
        "_uuid": "7a50514efd1c26639cf32132e70d3ac9f2596958",
        "_cell_guid": "9c3eb450-e857-44cd-a4b3-d1df3a16177a"
      },
      "cell_type": "markdown",
      "source": "**Lets analyze which are the Field Partners which provide most of the loans and in which Loan Theme type. **"
    },
    {
      "metadata": {
        "_uuid": "a8c7cbf7f50e57a65bbc49a1d88abc4370cfae1f",
        "collapsed": true,
        "_cell_guid": "5c69aa9a-564c-4f89-afa2-8b735393d5c2",
        "trusted": false
      },
      "cell_type": "code",
      "source": "loan_field_partner = loan_region.groupby(['Field Partner Name'])['amount'].sum().reset_index().sort_values(by = 'amount',ascending = False)\ntheme_type = loan_region.groupby(['Loan Theme Type'])['amount'].sum().reset_index().sort_values(by = 'amount',ascending = False)",
      "execution_count": null,
      "outputs": []
    },
    {
      "metadata": {
        "_uuid": "72683ae6dc28a5cd2615aa6cf259679e781605a0",
        "_cell_guid": "bc6f3d2c-8f24-4ff1-bde8-85754c2c882b",
        "trusted": false,
        "collapsed": true
      },
      "cell_type": "code",
      "source": "loan_field_partner.head()",
      "execution_count": null,
      "outputs": []
    },
    {
      "metadata": {
        "_uuid": "92958011dc9e6198f3307e031105b655df2964f7",
        "_cell_guid": "85798de8-dd6f-477c-a98e-93a0d4d411d8",
        "trusted": false,
        "collapsed": true
      },
      "cell_type": "code",
      "source": "theme_type.head()",
      "execution_count": null,
      "outputs": []
    },
    {
      "metadata": {
        "_uuid": "9ed86b52b268e37e42af94e2195024fb5aed4457",
        "collapsed": true,
        "_cell_guid": "eff37d93-9078-4f47-95ca-c963d34f6fdb",
        "trusted": false
      },
      "cell_type": "code",
      "source": "loan_field_partner_top20 = loan_field_partner.head(20)\ntheme_type_top20 = theme_type.head(20)",
      "execution_count": null,
      "outputs": []
    },
    {
      "metadata": {
        "_uuid": "d388f8bac000f65a8073d263c3578281a5ccb304",
        "_cell_guid": "53c8f53c-7b03-49d3-bb91-78ed99548f01",
        "trusted": false,
        "collapsed": true
      },
      "cell_type": "code",
      "source": "#create a color palette matching the values \ncmap = matplotlib.cm.viridis\nmini=min(loan_field_partner_top20['amount'])\nmaxi=max(loan_field_partner_top20['amount'])\nnorm = matplotlib.colors.Normalize(vmin=mini, vmax=maxi)\ncolors = [cmap(norm(value)) for value in loan_field_partner_top20['amount']]\n\n\nf,ax = plt.subplots(ncols=1)\nax = squarify.plot(sizes = loan_field_partner_top20['amount'],value = loan_field_partner_top20['amount'], norm_x = 100, norm_y = 100, label = loan_field_partner_top20['Field Partner Name'],color = colors )\nf.set_size_inches(20,10)\nax.set_title('Top 20 Loan Field Partners providing loans',fontsize = 20)",
      "execution_count": null,
      "outputs": []
    },
    {
      "metadata": {
        "_uuid": "35c9edfffce11fc8dd7dd97fe7f1ea3f61b7b66c",
        "_cell_guid": "7a1ef79f-99e5-41b6-ab1c-e9916503f455",
        "trusted": false,
        "collapsed": true
      },
      "cell_type": "code",
      "source": "#create a color palette matching the values \ncmap = matplotlib.cm.viridis\nmini=min(theme_type_top20['amount'])\nmaxi=max(theme_type_top20['amount'])\nnorm = matplotlib.colors.Normalize(vmin=mini, vmax=maxi)\ncolors = [cmap(norm(value)) for value in theme_type_top20['amount']]\n\n\nf,ax = plt.subplots(ncols=1)\nax = squarify.plot(sizes = theme_type_top20['amount'],value = theme_type_top20['amount'], norm_x = 100, norm_y = 100, label = theme_type_top20['Loan Theme Type'],color = colors )\nf.set_size_inches(20,10)\nax.set_title ('Top 20 Loan theme types',fontsize=20)",
      "execution_count": null,
      "outputs": []
    },
    {
      "metadata": {
        "_uuid": "4115c37f0f7fb6067624eb88b550a78b1d060a5b",
        "collapsed": true,
        "_cell_guid": "974fa128-57ec-4757-a98c-8198e41c7bcd",
        "trusted": false
      },
      "cell_type": "code",
      "source": "",
      "execution_count": null,
      "outputs": []
    },
    {
      "metadata": {
        "_uuid": "961bdc894b8215bfbd3a9481df2d02f419852083",
        "collapsed": true,
        "_cell_guid": "74fc6899-7fd9-4503-b97c-3bb4b222f9cd",
        "trusted": false
      },
      "cell_type": "code",
      "source": "",
      "execution_count": null,
      "outputs": []
    },
    {
      "metadata": {
        "_uuid": "a306806df543faf328cc7b8013c786c7273bb957",
        "collapsed": true,
        "_cell_guid": "77403302-f356-4324-b140-9245b49bdd7e",
        "trusted": false
      },
      "cell_type": "code",
      "source": "",
      "execution_count": null,
      "outputs": []
    }
  ],
  "metadata": {
    "language_info": {
      "codemirror_mode": {
        "name": "ipython",
        "version": 3
      },
      "name": "python",
      "mimetype": "text/x-python",
      "nbconvert_exporter": "python",
      "file_extension": ".py",
      "pygments_lexer": "ipython3",
      "version": "3.6.4"
    },
    "kernelspec": {
      "display_name": "Python 3",
      "language": "python",
      "name": "python3"
    }
  },
  "nbformat": 4,
  "nbformat_minor": 1
}